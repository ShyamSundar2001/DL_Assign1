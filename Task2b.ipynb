{
 "cells": [
  {
   "cell_type": "code",
   "execution_count": 1,
   "id": "8a26fd19",
   "metadata": {},
   "outputs": [],
   "source": [
    "import torch\n",
    "import numpy as np\n",
    "\n",
    "import torch.nn as nn\n",
    "from torch.utils.data import TensorDataset\n",
    "from torch.utils.data import DataLoader\n",
    "import torch.nn.functional as F\n",
    "import matplotlib.pyplot as plt\n",
    "from matplotlib.gridspec import GridSpec"
   ]
  },
  {
   "cell_type": "code",
   "execution_count": 2,
   "id": "fb3f586a",
   "metadata": {},
   "outputs": [],
   "source": [
    "\n",
    "class Assign_Model(nn.Module):\n",
    "    \n",
    "    def __init__(self,in_size,hidden1_size,hidden2_size,out_size):\n",
    "        super().__init__()\n",
    "        \n",
    "        self.input_l = nn.Linear(in_size,hidden1_size)\n",
    "        \n",
    "        self.hidden1_l = nn.Linear(hidden1_size,hidden2_size)\n",
    "        \n",
    "        self.hidden2_l = nn.Linear(hidden2_size,out_size)\n",
    "        \n",
    "    def forward(self,features):\n",
    "        \n",
    "        out_i = self.input_l( features )\n",
    "        \n",
    "        act_h1 = torch.tanh( out_i )\n",
    "        \n",
    "        out_h1 = self.hidden1_l( act_h1 )\n",
    "        \n",
    "        act_h2 = torch.tanh( out_h1 )\n",
    "        \n",
    "        Final_out = self.hidden2_l( act_h2 )\n",
    "        \n",
    "        return Final_out\n",
    "        \n"
   ]
  },
  {
   "cell_type": "markdown",
   "id": "172a2f8c",
   "metadata": {},
   "source": [
    "# Task 2b: Image Data Classifcation\n",
    "\n"
   ]
  },
  {
   "cell_type": "markdown",
   "id": "7c842494",
   "metadata": {},
   "source": [
    "### Extracting data"
   ]
  },
  {
   "cell_type": "code",
   "execution_count": 3,
   "id": "a67bb186",
   "metadata": {},
   "outputs": [
    {
     "name": "stdout",
     "output_type": "stream",
     "text": [
      "1232\n",
      "175\n",
      "353\n"
     ]
    }
   ],
   "source": [
    "inputs = np.genfromtxt('Data/task2b/Image_data_dim60.txt',delimiter = '\\t')\n",
    "labels = np.genfromtxt('Data/task2b/image_data_labels.txt',delimiter = '\\n')\n",
    "\n",
    "labels = labels.reshape((len(labels),1))\n",
    "inputs = np.append(inputs,labels,axis = 1)\n",
    "inputs = inputs[ inputs[:,60] != 0 ]\n",
    "inputs = inputs[ inputs[:,60] != 2 ]\n",
    "inputs = inputs[ inputs[:,60] != 3 ]\n",
    "\n",
    "temp = np.zeros((len(inputs),60))\n",
    "temp = np.append(temp, np.ones((len(inputs),1)),axis = 1)\n",
    "X = (temp == 1)\n",
    "\n",
    "\n",
    "Y0 = (X*np.array([(inputs[:,60] == 1)]*61).T)\n",
    "Y1 = (X*np.array([(inputs[:,60] == 4)]*61).T)\n",
    "Y2 = (X*np.array([(inputs[:,60] == 5)]*61).T)\n",
    "Y3 = (X*np.array([(inputs[:,60] == 6)]*61).T)\n",
    "Y4 = (X*np.array([(inputs[:,60] == 7)]*61).T)\n",
    "\n",
    "inputs[Y0] = 0\n",
    "inputs[Y1] = 1\n",
    "inputs[Y2] = 2\n",
    "inputs[Y3] = 3\n",
    "inputs[Y4] = 4\n",
    "\n",
    "\n",
    "# print(inputs)\n",
    "np.random.shuffle(inputs)\n",
    "\n",
    "\n",
    "train, rem = np.split( inputs, [int(0.7 * len(inputs))] , axis = 0)\n",
    "\n",
    "val , test   = np.split( rem , [int(0.33333 * len(rem))] , axis = 0)\n",
    "\n",
    "print(len(train))\n",
    "print(len(val))\n",
    "print(len(test))\n",
    "\n",
    "train = torch.from_numpy(train).float()\n",
    "test  = torch.from_numpy(test).float()\n",
    "val   = torch.from_numpy(val).float()"
   ]
  },
  {
   "cell_type": "markdown",
   "id": "c1008868",
   "metadata": {},
   "source": [
    "### Image Classification model\n"
   ]
  },
  {
   "cell_type": "code",
   "execution_count": 4,
   "id": "b28b2da9",
   "metadata": {},
   "outputs": [],
   "source": [
    "Image_Model1 = Assign_Model(60,100,100,5)\n",
    "Image_Model2 = Assign_Model(60,100,100,5)\n",
    "Image_Model3 = Assign_Model(60,100,100,5)"
   ]
  },
  {
   "cell_type": "code",
   "execution_count": 5,
   "id": "7e0a7528",
   "metadata": {},
   "outputs": [],
   "source": [
    "torch.save(Image_Model1.state_dict(), 'Task2b_Initial.pth')\n",
    "\n",
    "Image_Model2.load_state_dict(torch.load('Task2b_Initial.pth'))\n",
    "\n",
    "Image_Model3.load_state_dict(torch.load('Task2b_Initial.pth'))\n",
    "\n",
    "Delta_w = []\n",
    "for param in Image_Model1.parameters():\n",
    "    Delta_w.append(torch.zeros(param.size()))\n",
    "    \n",
    "    \n",
    "loss_fn = F.cross_entropy\n",
    "\n",
    "\n",
    "lr = 1e-5\n",
    "\n",
    "al = 0.9\n",
    "opt = torch.optim.Adam(Image_Model3.parameters(), lr=1e-5 , betas = (0.9,0.999))"
   ]
  },
  {
   "cell_type": "markdown",
   "id": "3e989592",
   "metadata": {},
   "source": [
    "### Training Phase Generalized Delta\n",
    "\n"
   ]
  },
  {
   "cell_type": "code",
   "execution_count": 6,
   "id": "db7f475b",
   "metadata": {
    "scrolled": true
   },
   "outputs": [
    {
     "name": "stdout",
     "output_type": "stream",
     "text": [
      "Epoch [100/1500], Average_Loss_Train: 0.9432\n",
      "Epoch [200/1500], Average_Loss_Train: 0.7403\n",
      "Epoch [300/1500], Average_Loss_Train: 0.5628\n",
      "Epoch [400/1500], Average_Loss_Train: 0.3967\n",
      "Epoch [500/1500], Average_Loss_Train: 0.2507\n",
      "Epoch [600/1500], Average_Loss_Train: 0.1446\n",
      "Epoch [700/1500], Average_Loss_Train: 0.0833\n",
      "Epoch [800/1500], Average_Loss_Train: 0.0514\n",
      "Epoch [900/1500], Average_Loss_Train: 0.0345\n",
      "Epoch [1000/1500], Average_Loss_Train: 0.0248\n",
      "Epoch [1100/1500], Average_Loss_Train: 0.0188\n",
      "Epoch [1200/1500], Average_Loss_Train: 0.0149\n",
      "Epoch [1300/1500], Average_Loss_Train: 0.0122\n",
      "Epoch [1400/1500], Average_Loss_Train: 0.0102\n"
     ]
    }
   ],
   "source": [
    "Average_loss = []\n",
    "num_epochs = 1500\n",
    "for epoch in range(num_epochs):\n",
    "    \n",
    "    \n",
    "    Total_loss_Train = 0\n",
    "    for X in train:\n",
    "        preds = Image_Model1(X[:60])\n",
    "        preds = torch.unsqueeze(preds,0)\n",
    "        loss = loss_fn(preds,torch.unsqueeze(X[60],0).long())\n",
    "        \n",
    "        Total_loss_Train += loss.item()\n",
    "        loss.backward()\n",
    "        \n",
    "        with torch.no_grad():\n",
    "            \n",
    "             i = 0\n",
    "             for param in Image_Model1.parameters():\n",
    "                \n",
    "                 Delta_w[i] =  - (lr*param.grad) + (al*Delta_w[i])\n",
    "                \n",
    "                 param += (Delta_w[i])\n",
    "                \n",
    "                 param.grad.zero_()\n",
    "                \n",
    "                 i += 1\n",
    "    Average_loss.append(Total_loss_Train/len(train))      \n",
    "\n",
    "    if Average_loss[-1] <= 0.01:\n",
    "        break\n",
    "    if (epoch+1) % 100  == 0:\n",
    "         print('Epoch [{}/{}], Average_Loss_Train: {:.4f}'.format(epoch+1,num_epochs,Average_loss[-1]))"
   ]
  },
  {
   "cell_type": "markdown",
   "id": "7931f613",
   "metadata": {},
   "source": [
    "### Training Phase Delta rule"
   ]
  },
  {
   "cell_type": "code",
   "execution_count": 39,
   "id": "1a67088e",
   "metadata": {},
   "outputs": [
    {
     "name": "stdout",
     "output_type": "stream",
     "text": [
      "Epoch [500/8000], Average_Loss_Train: 0.0318\n",
      "Epoch [1000/8000], Average_Loss_Train: 0.0269\n",
      "Epoch [1500/8000], Average_Loss_Train: 0.0231\n",
      "Epoch [2000/8000], Average_Loss_Train: 0.0202\n",
      "Epoch [2500/8000], Average_Loss_Train: 0.0178\n",
      "Epoch [3000/8000], Average_Loss_Train: 0.0159\n",
      "Epoch [3500/8000], Average_Loss_Train: 0.0142\n",
      "Epoch [4000/8000], Average_Loss_Train: 0.0129\n",
      "Epoch [4500/8000], Average_Loss_Train: 0.0118\n",
      "Epoch [5000/8000], Average_Loss_Train: 0.0108\n"
     ]
    }
   ],
   "source": [
    "Average_loss2 = []\n",
    "num_epochs = 8000\n",
    "for epoch in range(num_epochs):\n",
    "    \n",
    "    \n",
    "    Total_loss_Train = 0\n",
    "    for X in train:\n",
    "        preds = Image_Model2(X[:60])\n",
    "        preds = torch.unsqueeze(preds,0)\n",
    "        loss = loss_fn(preds,torch.unsqueeze(X[60],0).long())\n",
    "        \n",
    "        Total_loss_Train += loss.item()\n",
    "        loss.backward()\n",
    "        \n",
    "        with torch.no_grad():\n",
    "\n",
    "             for param in Image_Model2.parameters():\n",
    "                \n",
    "                 param += - (lr*param.grad)\n",
    "                 param.grad.zero_()\n",
    "                \n",
    "    Average_loss2.append(Total_loss_Train/len(train))      \n",
    "    \n",
    "    if Average_loss2[-1] <= 0.01:\n",
    "        break\n",
    "    if (epoch+1) % 500  == 0:\n",
    "         print('Epoch [{}/{}], Average_Loss_Train: {:.4f}'.format(epoch+1,num_epochs,Average_loss2[-1]))"
   ]
  },
  {
   "cell_type": "markdown",
   "id": "a9be540f",
   "metadata": {},
   "source": [
    "### Training Phase Adam method"
   ]
  },
  {
   "cell_type": "code",
   "execution_count": 8,
   "id": "951d4a1b",
   "metadata": {},
   "outputs": [
    {
     "name": "stdout",
     "output_type": "stream",
     "text": [
      "Epoch [100/1500], Average_Loss_Train: 0.8007\n",
      "Epoch [200/1500], Average_Loss_Train: 0.5689\n",
      "Epoch [300/1500], Average_Loss_Train: 0.3290\n",
      "Epoch [400/1500], Average_Loss_Train: 0.1281\n",
      "Epoch [500/1500], Average_Loss_Train: 0.0254\n"
     ]
    }
   ],
   "source": [
    "Average_loss3 = []\n",
    "num_epochs = 1500\n",
    "for epoch in range(num_epochs):\n",
    "    \n",
    "    \n",
    "    Total_loss_Train = 0\n",
    "    for X in train:\n",
    "        preds = Image_Model3(X[:60])\n",
    "        preds = torch.unsqueeze(preds,0)\n",
    "        loss = loss_fn(preds,torch.unsqueeze(X[60],0).long())\n",
    "        \n",
    "        Total_loss_Train += loss.item()\n",
    "        loss.backward()\n",
    "        \n",
    "        opt.step()\n",
    "        opt.zero_grad()\n",
    "                \n",
    "    Average_loss3.append(Total_loss_Train/len(train))      \n",
    "    \n",
    "    if Average_loss3[-1] <= 0.01:\n",
    "        break\n",
    "    if (epoch+1) % 100  == 0:\n",
    "         print('Epoch [{}/{}], Average_Loss_Train: {:.4f}'.format(epoch+1,num_epochs,Average_loss3[-1]))"
   ]
  },
  {
   "cell_type": "code",
   "execution_count": 9,
   "id": "ca7b846e",
   "metadata": {},
   "outputs": [
    {
     "data": {
      "text/plain": [
       "<matplotlib.legend.Legend at 0x7fb5944e2e20>"
      ]
     },
     "execution_count": 9,
     "metadata": {},
     "output_type": "execute_result"
    },
    {
     "data": {
      "image/png": "[encoded data removed]",
      "text/plain": [
       "<Figure size 432x288 with 1 Axes>"
      ]
     },
     "metadata": {
      "needs_background": "light"
     },
     "output_type": "display_data"
    }
   ],
   "source": [
    "\n",
    "plt.plot(range(0,len(Average_loss)), Average_loss,color='r', label='Gen Delta')\n",
    "plt.plot(range(0,len(Average_loss2)), Average_loss2,color='g', label='Delta')\n",
    "plt.plot(range(0,len(Average_loss3)), Average_loss3,color='b', label='Adam')\n",
    "\n",
    "plt.xlabel('Epoch')\n",
    "plt.ylabel('Average Loss')\n",
    "plt.title(\"Average Loss vs Epoch\")\n",
    "plt.legend()"
   ]
  },
  {
   "cell_type": "code",
   "execution_count": 43,
   "id": "3b4aa357",
   "metadata": {},
   "outputs": [
    {
     "name": "stdout",
     "output_type": "stream",
     "text": [
      "Genralized Delta Rule:\n",
      " [[233   0   0   0   0]\n",
      " [  0 267   0   0   0]\n",
      " [  0   0 280   0   0]\n",
      " [  0   0   0 211   0]\n",
      " [  0   0   0   0 241]] \n",
      " Accuarcy = 1.0 \n",
      "\n",
      "Delta Rule:\n",
      " [[233   0   0   0   0]\n",
      " [  0 267   0   0   0]\n",
      " [  0   0 280   0   0]\n",
      " [  0   0   0 211   0]\n",
      " [  0   0   0   0 241]] \n",
      " Accuarcy = 1.0 \n",
      "\n",
      "Adam:\n",
      " [[233   0   0   0   0]\n",
      " [  0 267   0   0   0]\n",
      " [  0   0 280   0   0]\n",
      " [  0   0   0 211   0]\n",
      " [  0   0   0   0 241]] \n",
      " Accuarcy = 1.0 \n",
      "\n"
     ]
    }
   ],
   "source": [
    "actual = train[:,60]\n",
    "\n",
    "preds = Image_Model1(train[:,:60])\n",
    "preds = torch.argmax(preds,1)\n",
    "\n",
    "X = (preds == actual).float() \n",
    "print('Genralized Delta Rule:\\n',confusion_matrix(actual,preds) ,\"\\n\", 'Accuarcy = {} \\n'.format(torch.mean(X)))\n",
    "\n",
    "preds = Image_Model2(train[:,:60])\n",
    "preds = torch.argmax(preds,1)\n",
    "\n",
    "X = (preds == actual).float() \n",
    "print('Delta Rule:\\n',confusion_matrix(actual,preds) ,\"\\n\", 'Accuarcy = {} \\n'.format(torch.mean(X)))\n",
    "\n",
    "\n",
    "preds = Image_Model3(train[:,:60])\n",
    "preds = torch.argmax(preds,1)\n",
    "\n",
    "X = (preds == actual).float() \n",
    "print('Adam:\\n',confusion_matrix(actual,preds) ,\"\\n\", 'Accuarcy = {} \\n'.format(torch.mean(X)))\n"
   ]
  },
  {
   "cell_type": "code",
   "execution_count": 44,
   "id": "5e7fcb5f",
   "metadata": {},
   "outputs": [
    {
     "name": "stdout",
     "output_type": "stream",
     "text": [
      "Genralized Delta Rule:\n",
      " [[43  2  7  2 11]\n",
      " [ 4 27  9  4 18]\n",
      " [ 7 12 62  1  6]\n",
      " [ 1  6  2 40  7]\n",
      " [ 3 15  6  7 51]] \n",
      " Accuarcy = 0.6317280530929565 \n",
      "\n",
      "Delta Rule:\n",
      " [[45  2  9  1  8]\n",
      " [ 5 30  9  4 14]\n",
      " [ 7 16 58  2  5]\n",
      " [ 1  8  1 42  4]\n",
      " [ 4 21  8  8 41]] \n",
      " Accuarcy = 0.6118980050086975 \n",
      "\n",
      "Adam:\n",
      " [[45  3  9  1  7]\n",
      " [ 4 35 10  2 11]\n",
      " [ 7 13 62  1  5]\n",
      " [ 0  3  2 43  8]\n",
      " [ 3 15  9 10 45]] \n",
      " Accuarcy = 0.6515581011772156 \n",
      "\n"
     ]
    }
   ],
   "source": [
    "actual = test[:,60]\n",
    "\n",
    "preds = Image_Model1(test[:,:60])\n",
    "preds = torch.argmax(preds,1)\n",
    "\n",
    "X = (preds == actual).float() \n",
    "print('Genralized Delta Rule:\\n',confusion_matrix(actual,preds) ,\"\\n\", 'Accuarcy = {} \\n'.format(torch.mean(X)))\n",
    "\n",
    "preds = Image_Model2(test[:,:60])\n",
    "preds = torch.argmax(preds,1)\n",
    "\n",
    "X = (preds == actual).float() \n",
    "print('Delta Rule:\\n',confusion_matrix(actual,preds) ,\"\\n\", 'Accuarcy = {} \\n'.format(torch.mean(X)))\n",
    "\n",
    "\n",
    "preds = Image_Model3(test[:,:60])\n",
    "preds = torch.argmax(preds,1)\n",
    "\n",
    "X = (preds == actual).float() \n",
    "print('Adam:\\n',confusion_matrix(actual,preds) ,\"\\n\", 'Accuarcy = {} \\n'.format(torch.mean(X)))\n"
   ]
  },
  {
   "cell_type": "code",
   "execution_count": 42,
   "id": "cda8d08f",
   "metadata": {},
   "outputs": [
    {
     "name": "stdout",
     "output_type": "stream",
     "text": [
      "Total Epochs Gen_delta : 1411\n",
      "Total Epochs delta : 13474\n",
      "Total Epochs Adam : 539\n"
     ]
    }
   ],
   "source": [
    "print('Total Epochs Gen_delta :',len(Average_loss))\n",
    "print('Total Epochs delta :',8000+len(Average_loss2))\n",
    "print('Total Epochs Adam :',len(Average_loss3))"
   ]
  },
  {
   "cell_type": "code",
   "execution_count": null,
   "id": "f4e64626",
   "metadata": {},
   "outputs": [],
   "source": []
  }
 ],
 "metadata": {
  "kernelspec": {
   "display_name": "DL_test",
   "language": "python",
   "name": "dl_test"
  },
  "language_info": {
   "codemirror_mode": {
    "name": "ipython",
    "version": 3
   },
   "file_extension": ".py",
   "mimetype": "text/x-python",
   "name": "python",
   "nbconvert_exporter": "python",
   "pygments_lexer": "ipython3",
   "version": "3.9.7"
  }
 },
 "nbformat": 4,
 "nbformat_minor": 5
}
