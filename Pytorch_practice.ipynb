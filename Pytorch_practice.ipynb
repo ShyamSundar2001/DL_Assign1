{
 "cells": [
  {
   "cell_type": "code",
   "execution_count": 1,
   "id": "cf97671c",
   "metadata": {},
   "outputs": [
    {
     "name": "stdout",
     "output_type": "stream",
     "text": [
      "# packages in environment at /home/shyam/anaconda3/envs/DL_test:\r\n",
      "#\r\n",
      "# Name                    Version                   Build  Channel\r\n",
      "_libgcc_mutex             0.1                        main  \r\n",
      "_openmp_mutex             4.5                       1_gnu  \r\n",
      "argon2-cffi               20.1.0           py39h27cfd23_1  \r\n",
      "async_generator           1.10               pyhd3eb1b0_0  \r\n",
      "attrs                     21.4.0             pyhd3eb1b0_0  \r\n",
      "backcall                  0.2.0              pyhd3eb1b0_0  \r\n",
      "blas                      1.0                         mkl  \r\n",
      "bleach                    4.1.0              pyhd3eb1b0_0  \r\n",
      "bzip2                     1.0.8                h7b6447c_0  \r\n",
      "ca-certificates           2021.10.26           h06a4308_2  \r\n",
      "certifi                   2021.10.8        py39h06a4308_2  \r\n",
      "cffi                      1.15.0           py39hd667e15_1  \r\n",
      "cudatoolkit               10.2.89              hfd86e86_1  \r\n",
      "dbus                      1.13.18              hb2f20db_0  \r\n",
      "debugpy                   1.5.1            py39h295c915_0  \r\n",
      "decorator                 5.1.1              pyhd3eb1b0_0  \r\n",
      "defusedxml                0.7.1              pyhd3eb1b0_0  \r\n",
      "entrypoints               0.3              py39h06a4308_0  \r\n",
      "expat                     2.4.1                h2531618_2  \r\n",
      "ffmpeg                    4.3                  hf484d3e_0    pytorch\r\n",
      "fontconfig                2.13.1               h6c09931_0  \r\n",
      "freetype                  2.11.0               h70c0345_0  \r\n",
      "giflib                    5.2.1                h7b6447c_0  \r\n",
      "glib                      2.69.1               h4ff587b_1  \r\n",
      "gmp                       6.2.1                h2531618_2  \r\n",
      "gnutls                    3.6.15               he1e5248_0  \r\n",
      "gst-plugins-base          1.14.0               h8213a91_2  \r\n",
      "gstreamer                 1.14.0               h28cd5cc_2  \r\n",
      "icu                       58.2                 he6710b0_3  \r\n",
      "importlib-metadata        4.8.2            py39h06a4308_0  \r\n",
      "importlib_metadata        4.8.2                hd3eb1b0_0  \r\n",
      "intel-openmp              2021.4.0          h06a4308_3561  \r\n",
      "ipykernel                 6.4.1            py39h06a4308_1  \r\n",
      "ipython                   7.31.1           py39h06a4308_0  \r\n",
      "ipython_genutils          0.2.0              pyhd3eb1b0_1  \r\n",
      "ipywidgets                7.6.5              pyhd3eb1b0_1  \r\n",
      "jedi                      0.18.1           py39h06a4308_0  \r\n",
      "jinja2                    3.0.2              pyhd3eb1b0_0  \r\n",
      "jpeg                      9d                   h7f8727e_0  \r\n",
      "jsonschema                3.2.0              pyhd3eb1b0_2  \r\n",
      "jupyter                   1.0.0            py39h06a4308_7  \r\n",
      "jupyter_client            7.1.2              pyhd3eb1b0_0  \r\n",
      "jupyter_console           6.4.0              pyhd3eb1b0_0  \r\n",
      "jupyter_core              4.9.1            py39h06a4308_0  \r\n",
      "jupyterlab_pygments       0.1.2                      py_0  \r\n",
      "jupyterlab_widgets        1.0.0              pyhd3eb1b0_1  \r\n",
      "lame                      3.100                h7b6447c_0  \r\n",
      "lcms2                     2.12                 h3be6417_0  \r\n",
      "ld_impl_linux-64          2.35.1               h7274673_9  \r\n",
      "libffi                    3.3                  he6710b0_2  \r\n",
      "libgcc-ng                 9.3.0               h5101ec6_17  \r\n",
      "libgomp                   9.3.0               h5101ec6_17  \r\n",
      "libiconv                  1.15                 h63c8f33_5  \r\n",
      "libidn2                   2.3.2                h7f8727e_0  \r\n",
      "libpng                    1.6.37               hbc83047_0  \r\n",
      "libsodium                 1.0.18               h7b6447c_0  \r\n",
      "libstdcxx-ng              9.3.0               hd4cf53a_17  \r\n",
      "libtasn1                  4.16.0               h27cfd23_0  \r\n",
      "libtiff                   4.2.0                h85742a9_0  \r\n",
      "libunistring              0.9.10               h27cfd23_0  \r\n",
      "libuuid                   1.0.3                h7f8727e_2  \r\n",
      "libuv                     1.40.0               h7b6447c_0  \r\n",
      "libwebp                   1.2.0                h89dd481_0  \r\n",
      "libwebp-base              1.2.0                h27cfd23_0  \r\n",
      "libxcb                    1.14                 h7b6447c_0  \r\n",
      "libxml2                   2.9.12               h03d6c58_0  \r\n",
      "lz4-c                     1.9.3                h295c915_1  \r\n",
      "markupsafe                2.0.1            py39h27cfd23_0  \r\n",
      "matplotlib-inline         0.1.2              pyhd3eb1b0_2  \r\n",
      "mistune                   0.8.4           py39h27cfd23_1000  \r\n",
      "mkl                       2021.4.0           h06a4308_640  \r\n",
      "mkl-service               2.4.0            py39h7f8727e_0  \r\n",
      "mkl_fft                   1.3.1            py39hd3c417c_0  \r\n",
      "mkl_random                1.2.2            py39h51133e4_0  \r\n",
      "nbclient                  0.5.3              pyhd3eb1b0_0  \r\n",
      "nbconvert                 6.3.0            py39h06a4308_0  \r\n",
      "nbformat                  5.1.3              pyhd3eb1b0_0  \r\n",
      "ncurses                   6.3                  h7f8727e_2  \r\n",
      "nest-asyncio              1.5.1              pyhd3eb1b0_0  \r\n",
      "nettle                    3.7.3                hbbd107a_1  \r\n",
      "notebook                  6.4.6            py39h06a4308_0  \r\n",
      "numpy                     1.21.2           py39h20f2e39_0  \r\n",
      "numpy-base                1.21.2           py39h79a1101_0  \r\n",
      "olefile                   0.46               pyhd3eb1b0_0  \r\n",
      "openh264                  2.1.1                h4ff587b_0  \r\n",
      "openssl                   1.1.1m               h7f8727e_0  \r\n",
      "packaging                 21.3               pyhd3eb1b0_0  \r\n",
      "pandocfilters             1.5.0              pyhd3eb1b0_0  \r\n",
      "parso                     0.8.3              pyhd3eb1b0_0  \r\n",
      "pcre                      8.45                 h295c915_0  \r\n",
      "pexpect                   4.8.0              pyhd3eb1b0_3  \r\n",
      "pickleshare               0.7.5           pyhd3eb1b0_1003  \r\n",
      "pillow                    8.4.0            py39h5aabda8_0  \r\n",
      "pip                       21.2.4           py39h06a4308_0  \r\n",
      "prometheus_client         0.13.1             pyhd3eb1b0_0  \r\n",
      "prompt-toolkit            3.0.20             pyhd3eb1b0_0  \r\n",
      "prompt_toolkit            3.0.20               hd3eb1b0_0  \r\n",
      "ptyprocess                0.7.0              pyhd3eb1b0_2  \r\n",
      "pycparser                 2.21               pyhd3eb1b0_0  \r\n",
      "pygments                  2.10.0             pyhd3eb1b0_0  \r\n",
      "pyparsing                 3.0.4              pyhd3eb1b0_0  \r\n",
      "pyqt                      5.9.2            py39h2531618_6  \r\n",
      "pyrsistent                0.18.0           py39heee7806_0  \r\n",
      "python                    3.9.7                h12debd9_1  \r\n",
      "python-dateutil           2.8.2              pyhd3eb1b0_0  \r\n",
      "pytorch                   1.10.2          py3.9_cuda10.2_cudnn7.6.5_0    pytorch\r\n",
      "pytorch-mutex             1.0                        cuda    pytorch\r\n",
      "pyzmq                     22.3.0           py39h295c915_2  \r\n",
      "qt                        5.9.7                h5867ecd_1  \r\n",
      "qtconsole                 5.2.2              pyhd3eb1b0_0  \r\n",
      "qtpy                      1.11.2             pyhd3eb1b0_0  \r\n",
      "readline                  8.1.2                h7f8727e_1  \r\n",
      "send2trash                1.8.0              pyhd3eb1b0_1  \r\n",
      "setuptools                58.0.4           py39h06a4308_0  \r\n",
      "sip                       4.19.13          py39h295c915_0  \r\n",
      "six                       1.16.0             pyhd3eb1b0_0  \r\n",
      "sqlite                    3.37.0               hc218d9a_0  \r\n",
      "terminado                 0.9.4            py39h06a4308_0  \r\n",
      "testpath                  0.5.0              pyhd3eb1b0_0  \r\n",
      "tk                        8.6.11               h1ccaba5_0  \r\n",
      "torchaudio                0.10.2               py39_cu102    pytorch\r\n",
      "torchvision               0.11.3               py39_cu102    pytorch\r\n",
      "tornado                   6.1              py39h27cfd23_0  \r\n",
      "traitlets                 5.1.1              pyhd3eb1b0_0  \r\n",
      "typing_extensions         3.10.0.2           pyh06a4308_0  \r\n",
      "tzdata                    2021e                hda174b7_0  \r\n",
      "wcwidth                   0.2.5              pyhd3eb1b0_0  \r\n",
      "webencodings              0.5.1            py39h06a4308_1  \r\n",
      "wheel                     0.37.1             pyhd3eb1b0_0  \r\n",
      "widgetsnbextension        3.5.1            py39h06a4308_0  \r\n",
      "xz                        5.2.5                h7b6447c_0  \r\n",
      "zeromq                    4.3.4                h2531618_0  \r\n",
      "zipp                      3.7.0              pyhd3eb1b0_0  \r\n",
      "zlib                      1.2.11               h7f8727e_4  \r\n",
      "zstd                      1.4.9                haebb681_0  \r\n"
     ]
    },
    {
     "name": "stdout",
     "output_type": "stream",
     "text": [
      "\n",
      "Note: you may need to restart the kernel to use updated packages.\n"
     ]
    }
   ],
   "source": [
    "conda list\n"
   ]
  },
  {
   "cell_type": "code",
   "execution_count": 2,
   "id": "ca410753",
   "metadata": {},
   "outputs": [
    {
     "name": "stdout",
     "output_type": "stream",
     "text": [
      "DL_test\n"
     ]
    }
   ],
   "source": [
    "import os\n",
    "print(os.environ['CONDA_DEFAULT_ENV'])"
   ]
  },
  {
   "cell_type": "code",
   "execution_count": null,
   "id": "18e952ee",
   "metadata": {},
   "outputs": [],
   "source": [
    "import torch\n",
    "import numpy as np"
   ]
  },
  {
   "cell_type": "code",
   "execution_count": null,
   "id": "0677cbe9",
   "metadata": {},
   "outputs": [],
   "source": [
    "x = torch.tensor([1.,2,3])\n",
    "w = torch.tensor([4.,5,6],requires_grad = True)\n",
    "b = torch.tensor(5.,requires_grad = True)\n",
    "torch.dot(w,x) + b"
   ]
  },
  {
   "cell_type": "code",
   "execution_count": null,
   "id": "25d89203",
   "metadata": {},
   "outputs": [],
   "source": [
    "y = torch.dot(w,x) + b\n",
    "y\n"
   ]
  },
  {
   "cell_type": "code",
   "execution_count": null,
   "id": "c5a270c0",
   "metadata": {},
   "outputs": [],
   "source": [
    "y.backward()"
   ]
  },
  {
   "cell_type": "code",
   "execution_count": 92,
   "id": "a26e37e0",
   "metadata": {},
   "outputs": [
    {
     "name": "stdout",
     "output_type": "stream",
     "text": [
      "tensor([[0., 0., 0.],\n",
      "        [0., 0., 0.]])\n"
     ]
    }
   ],
   "source": [
    "print(w.grad)"
   ]
  },
  {
   "cell_type": "markdown",
   "id": "69ab5f3f",
   "metadata": {},
   "source": [
    "### Broadcasting_test\n"
   ]
  },
  {
   "cell_type": "code",
   "execution_count": 100,
   "id": "c01db6f6",
   "metadata": {},
   "outputs": [
    {
     "name": "stdout",
     "output_type": "stream",
     "text": [
      "tensor([[ 1.3006,  0.9616],\n",
      "        [-0.5506,  0.1331],\n",
      "        [-0.7478, -0.6769],\n",
      "        [-0.1376,  0.1198],\n",
      "        [-0.4800,  1.9833]])\n",
      "tensor([0.4057, 0.3243])\n"
     ]
    },
    {
     "data": {
      "text/plain": [
       "tensor([[ 1.7063,  1.2860],\n",
       "        [-0.1449,  0.4575],\n",
       "        [-0.3421, -0.3525],\n",
       "        [ 0.2681,  0.4441],\n",
       "        [-0.0743,  2.3077]])"
      ]
     },
     "execution_count": 100,
     "metadata": {},
     "output_type": "execute_result"
    }
   ],
   "source": [
    "x = torch.randn(5,2)\n",
    "y = torch.rand(2)\n",
    "print(x)\n",
    "print(y)\n",
    "x + y"
   ]
  },
  {
   "cell_type": "markdown",
   "id": "ec9e9761",
   "metadata": {},
   "source": [
    "# Linear Regression\n"
   ]
  },
  {
   "cell_type": "code",
   "execution_count": 57,
   "id": "8b61e7dc",
   "metadata": {},
   "outputs": [],
   "source": [
    "\n",
    "inputs = np.array([[73,67,43],\n",
    "                  [91,88,64],\n",
    "                  [87,134,58],\n",
    "                  [102,43,37],\n",
    "                  [69,96,70]],dtype = 'float32')\n",
    "\n",
    "# 5 (samples) * 3 (features)"
   ]
  },
  {
   "cell_type": "code",
   "execution_count": 58,
   "id": "4a169392",
   "metadata": {},
   "outputs": [],
   "source": [
    "targets = np.array([[56,70],[81,101],[119,133],[22,37],[103,119]],dtype  = 'float32')\n",
    "\n",
    "# 5 (samples) * 2 (outputs)"
   ]
  },
  {
   "cell_type": "code",
   "execution_count": 59,
   "id": "ac62f023",
   "metadata": {},
   "outputs": [],
   "source": [
    "### convert to tensors\n",
    "inputs = torch.from_numpy(inputs)\n",
    "targets = torch.from_numpy(targets)"
   ]
  },
  {
   "cell_type": "code",
   "execution_count": 84,
   "id": "1ac1c56d",
   "metadata": {},
   "outputs": [
    {
     "name": "stdout",
     "output_type": "stream",
     "text": [
      "tensor([[-0.2827,  1.2122, -0.0752],\n",
      "        [ 2.1194,  2.3255,  0.4022]], requires_grad=True)\n",
      "tensor([1.3125, 1.2541], requires_grad=True)\n"
     ]
    }
   ],
   "source": [
    "w = torch.randn(2,3,requires_grad = True)\n",
    "b = torch.randn(2,requires_grad = True)\n",
    "\n",
    "print(w)\n",
    "print(b)"
   ]
  },
  {
   "cell_type": "code",
   "execution_count": 85,
   "id": "b896d45a",
   "metadata": {},
   "outputs": [],
   "source": [
    "def model(x):\n",
    "    return x @ w.t() + b\n",
    "\n",
    "def mse(a,b):\n",
    "    diff = a - b\n",
    "    return torch.sum(diff*diff)/ diff.numel()"
   ]
  },
  {
   "cell_type": "code",
   "execution_count": 86,
   "id": "bf33e8e8",
   "metadata": {},
   "outputs": [
    {
     "data": {
      "text/plain": [
       "tensor(48793.5234, grad_fn=<DivBackward0>)"
      ]
     },
     "execution_count": 86,
     "metadata": {},
     "output_type": "execute_result"
    }
   ],
   "source": [
    "preds = model(inputs)\n",
    "loss = mse(targets,preds)\n",
    "loss"
   ]
  },
  {
   "cell_type": "code",
   "execution_count": 103,
   "id": "f429d21a",
   "metadata": {},
   "outputs": [],
   "source": [
    "for i in range(100):\n",
    "    preds = model(inputs)\n",
    "    loss = mse(targets,preds)\n",
    "    \n",
    "    if loss > 0:\n",
    "        loss.backward()\n",
    "        with torch.no_grad():\n",
    "            w -= w.grad * 1e-4\n",
    "            b -= b.grad * 1e-4\n",
    "            w.grad.zero_()\n",
    "            b.grad.zero_()"
   ]
  },
  {
   "cell_type": "code",
   "execution_count": 104,
   "id": "948d7b3f",
   "metadata": {},
   "outputs": [
    {
     "data": {
      "text/plain": [
       "tensor(8.0679, grad_fn=<DivBackward0>)"
      ]
     },
     "execution_count": 104,
     "metadata": {},
     "output_type": "execute_result"
    }
   ],
   "source": [
    "preds = model(inputs)\n",
    "loss = mse(targets,preds)\n",
    "loss"
   ]
  },
  {
   "cell_type": "code",
   "execution_count": 105,
   "id": "9ff0a683",
   "metadata": {},
   "outputs": [
    {
     "data": {
      "text/plain": [
       "tensor([[ 57.5424,  70.8018],\n",
       "        [ 80.7497,  98.1439],\n",
       "        [121.4048, 137.9156],\n",
       "        [ 21.8233,  38.3888],\n",
       "        [ 99.2118, 114.1854]], grad_fn=<AddBackward0>)"
      ]
     },
     "execution_count": 105,
     "metadata": {},
     "output_type": "execute_result"
    }
   ],
   "source": [
    "preds"
   ]
  },
  {
   "cell_type": "markdown",
   "id": "e5ce04df",
   "metadata": {},
   "source": [
    " # Linear Regression using pytorch built ins\n",
    " "
   ]
  },
  {
   "cell_type": "code",
   "execution_count": 114,
   "id": "f730bbf2",
   "metadata": {},
   "outputs": [],
   "source": [
    "import torch.nn as nn\n",
    "from torch.utils.data import TensorDataset\n",
    "from torch.utils.data import DataLoader\n",
    "import torch.nn.functional as F\n"
   ]
  },
  {
   "cell_type": "code",
   "execution_count": 115,
   "id": "62fa18bb",
   "metadata": {},
   "outputs": [],
   "source": [
    "# Input (temp, rainfall, humidity)\n",
    "inputs = np.array([[73, 67, 43], \n",
    "                   [91, 88, 64], \n",
    "                   [87, 134, 58], \n",
    "                   [102, 43, 37], \n",
    "                   [69, 96, 70], \n",
    "                   [74, 66, 43], \n",
    "                   [91, 87, 65], \n",
    "                   [88, 134, 59], \n",
    "                   [101, 44, 37], \n",
    "                   [68, 96, 71], \n",
    "                   [73, 66, 44], \n",
    "                   [92, 87, 64], \n",
    "                   [87, 135, 57], \n",
    "                   [103, 43, 36], \n",
    "                   [68, 97, 70]], \n",
    "                  dtype='float32')\n",
    "\n",
    "# Targets (apples, oranges)\n",
    "targets = np.array([[56, 70], \n",
    "                    [81, 101], \n",
    "                    [119, 133], \n",
    "                    [22, 37], \n",
    "                    [103, 119],\n",
    "                    [57, 69], \n",
    "                    [80, 102], \n",
    "                    [118, 132], \n",
    "                    [21, 38], \n",
    "                    [104, 118], \n",
    "                    [57, 69], \n",
    "                    [82, 100], \n",
    "                    [118, 134], \n",
    "                    [20, 38], \n",
    "                    [102, 120]], \n",
    "                   dtype='float32')\n",
    "\n",
    "inputs = torch.from_numpy(inputs)\n",
    "targets = torch.from_numpy(targets)"
   ]
  },
  {
   "cell_type": "code",
   "execution_count": 116,
   "id": "6e59d49b",
   "metadata": {},
   "outputs": [],
   "source": [
    "train_ds = TensorDataset(inputs, targets)\n",
    "train_dl = DataLoader(train_ds, 2, shuffle=True)"
   ]
  },
  {
   "cell_type": "code",
   "execution_count": 117,
   "id": "0c5efee2",
   "metadata": {},
   "outputs": [
    {
     "name": "stdout",
     "output_type": "stream",
     "text": [
      "Parameter containing:\n",
      "tensor([[-0.3273,  0.1210,  0.2587],\n",
      "        [-0.1417,  0.0386, -0.2486]], requires_grad=True)\n",
      "Parameter containing:\n",
      "tensor([-0.2868,  0.4878], requires_grad=True)\n"
     ]
    }
   ],
   "source": [
    "model = nn.Linear(3, 2)\n",
    "print(model.weight)\n",
    "print(model.bias)"
   ]
  },
  {
   "cell_type": "code",
   "execution_count": 121,
   "id": "a0ec366f",
   "metadata": {},
   "outputs": [],
   "source": [
    "loss_fn = F.mse_loss\n",
    "opt = torch.optim.SGD(model.parameters(), lr=1e-5)"
   ]
  },
  {
   "cell_type": "code",
   "execution_count": 122,
   "id": "5b0ea563",
   "metadata": {},
   "outputs": [],
   "source": [
    "def fit(num_epochs, model, loss_fn, opt, train_dl):\n",
    "    \n",
    "    # Repeat for given number of epochs\n",
    "    for epoch in range(num_epochs):\n",
    "        \n",
    "        # Train with batches of data\n",
    "        for xb,yb in train_dl:\n",
    "            preds = model(xb)\n",
    "            loss = loss_fn(preds,yb)\n",
    "            loss.backward()\n",
    "            opt.step()\n",
    "            opt.zero_grad()\n",
    "        \n",
    "        # Print the progress\n",
    "        if (epoch+1) % 10 == 0:\n",
    "            print('Epoch [{}/{}], Loss: {:.4f}'.format(epoch+1, num_epochs, loss.item()))"
   ]
  },
  {
   "cell_type": "code",
   "execution_count": 123,
   "id": "78f46302",
   "metadata": {},
   "outputs": [
    {
     "name": "stdout",
     "output_type": "stream",
     "text": [
      "Epoch [10/100], Loss: 227.5515\n",
      "Epoch [20/100], Loss: 9.0792\n",
      "Epoch [30/100], Loss: 3.6751\n",
      "Epoch [40/100], Loss: 11.7161\n",
      "Epoch [50/100], Loss: 9.5528\n",
      "Epoch [60/100], Loss: 1.9342\n",
      "Epoch [70/100], Loss: 6.1699\n",
      "Epoch [80/100], Loss: 17.9987\n",
      "Epoch [90/100], Loss: 15.8567\n",
      "Epoch [100/100], Loss: 16.6525\n"
     ]
    }
   ],
   "source": [
    "fit(100, model, loss_fn, opt, train_dl)"
   ]
  },
  {
   "cell_type": "code",
   "execution_count": null,
   "id": "c6b751ee",
   "metadata": {},
   "outputs": [],
   "source": []
  }
 ],
 "metadata": {
  "kernelspec": {
   "display_name": "Python 3",
   "language": "python",
   "name": "python3"
  },
  "language_info": {
   "codemirror_mode": {
    "name": "ipython",
    "version": 3
   },
   "file_extension": ".py",
   "mimetype": "text/x-python",
   "name": "python",
   "nbconvert_exporter": "python",
   "pygments_lexer": "ipython3",
   "version": "3.9.7"
  }
 },
 "nbformat": 4,
 "nbformat_minor": 5
}
